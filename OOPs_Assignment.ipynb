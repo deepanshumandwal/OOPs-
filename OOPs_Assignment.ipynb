{
  "nbformat": 4,
  "nbformat_minor": 0,
  "metadata": {
    "colab": {
      "provenance": []
    },
    "kernelspec": {
      "name": "python3",
      "display_name": "Python 3"
    },
    "language_info": {
      "name": "python"
    }
  },
  "cells": [
    {
      "cell_type": "markdown",
      "source": [
        "# ***THEORY QUESTIONS***"
      ],
      "metadata": {
        "id": "Og5T0htW-QOA"
      }
    },
    {
      "cell_type": "markdown",
      "source": [
        "**1. What is Object-Oriented Programming (OOP) ?**\n",
        "  - Object-Oriented Programming (OOP) is a paradigm that organizes software design around data, or \"objects,\" rather than functions. In Python, it involves creating \"classes\" as blueprints, which define attributes (data) and methods (behaviors). Objects are instances of these classes, enabling modular, reusable, and scalable code through concepts like encapsulation, inheritance, and polymorphism."
      ],
      "metadata": {
        "id": "2wIOj1Ho-P93"
      }
    },
    {
      "cell_type": "markdown",
      "source": [
        "**2. What is a class in OOP ?**\n",
        "  - In Python's OOP, a class acts as a blueprint or template for creating objects. It defines a set of attributes (data) and methods (functions) that all objects instantiated from that class will possess. Essentially, it specifies the common characteristics and behaviors shared by a group of related objects."
      ],
      "metadata": {
        "id": "UEhekubh-P6W"
      }
    },
    {
      "cell_type": "markdown",
      "source": [
        "**3. What is an object in OOP ?**\n",
        "- In OOP, an object is a concrete instance of a class. It's a real-world entity created from the class blueprint, possessing the attributes and behaviors defined by that class. For example, if \"Car\" is a class, then \"myRedCar\" is an object, with its own specific color and speed."
      ],
      "metadata": {
        "id": "abtu_TmS-Pvk"
      }
    },
    {
      "cell_type": "markdown",
      "source": [
        "**4. What is the difference between abstraction and encapsulation ?**\n",
        "  - Abstraction focuses on what an object does, hiding complex implementation details and showing only essential functionality. Encapsulation, on the other hand, is about how an object manages its data, bundling data and methods into a single unit (a class) and controlling access to ensure data integrity. They complement each other for cleaner, more secure code."
      ],
      "metadata": {
        "id": "DEIQtnv9-PsS"
      }
    },
    {
      "cell_type": "markdown",
      "source": [
        "**5. What are dunder methods in Python ?**\n",
        "- Dunder methods, or \"magic methods,\" are special methods in Python recognized by their double underscores (e.g., `__init__`, `__str__`). They allow custom classes to integrate with Python's built-in behaviors and operators, like addition (`__add__`) or string conversion (`__str__`). You rarely call them directly; Python invokes them implicitly for specific actions."
      ],
      "metadata": {
        "id": "lpNh19p5-PqI"
      }
    },
    {
      "cell_type": "markdown",
      "source": [
        "**6. Explain the concept of inheritance in OOP.**\n",
        "  - Inheritance in Python OOP is a mechanism where a new class (subclass/child) derives properties and behaviors from an existing class (superclass/parent). This promotes code reusability, allowing subclasses to inherit attributes and methods, and optionally extend or override them. It models an \"is-a\" relationship, e.g., a \"Dog is a Mammal.\""
      ],
      "metadata": {
        "id": "6Un4QCFs-Pny"
      }
    },
    {
      "cell_type": "markdown",
      "source": [
        "**7. What is polymorphism in OOP ?**\n",
        "  - Polymorphism, meaning \"many forms,\" allows objects of different classes to be treated as objects of a common type. In Python, this is often achieved through method overriding, where a subclass provides a specific implementation for a method already defined in its superclass, or through duck typing, where an object's suitability is determined by its methods, not its type."
      ],
      "metadata": {
        "id": "CmwmJOH_-PlA"
      }
    },
    {
      "cell_type": "markdown",
      "source": [
        "**8. How is encapsulation achieved in Python ?**\n",
        "  - In Python, encapsulation is achieved through conventions rather than strict access modifiers like `private`. Attributes intended to be \"private\" are typically prefixed with a single underscore (`_protected_attr`) or double underscores (`__private_attr`), the latter triggering name mangling to make direct external access harder. Developers then use methods (getters/setters) for controlled interaction with these attributes, embodying data hiding."
      ],
      "metadata": {
        "id": "Dubluz_W-PiW"
      }
    },
    {
      "cell_type": "markdown",
      "source": [
        "**9. What is a constructor in Python ?**\n",
        "  - In Python, a constructor is a special method named `__init__`. It's automatically called when a new object is created from a class. Its primary purpose is to initialize the object's attributes with starting values, setting up the object's initial state and ensuring it's ready for use."
      ],
      "metadata": {
        "id": "tOhJB7ha-Pfu"
      }
    },
    {
      "cell_type": "markdown",
      "source": [
        "**10. What are class and static methods in Python ?**\n",
        "  - Class methods (`@classmethod`) take the class itself (`cls`) as their first argument. They can access and modify class-level attributes and are often used for factory methods or operations affecting the class as a whole.\n",
        "\n",
        "  - Static methods (`@staticmethod`) don't take `self` or `cls`. They're like regular functions placed within a class for organizational purposes, without direct access to instance or class state. They're good for utility functions related to the class but independent of its data."
      ],
      "metadata": {
        "id": "lcaldIRL-PdL"
      }
    },
    {
      "cell_type": "markdown",
      "source": [
        "**11. What is method overloading in Python ?**\n",
        "  - Unlike languages like Java, Python does not natively support traditional method overloading where you define multiple methods with the same name but different parameter lists. If you define multiple methods with the same name in a class, the last defined method will override the previous ones.\n",
        "\n",
        "However, you can *simulate* method overloading using techniques like:\n",
        "* **Default arguments:** Provide default values for parameters, allowing calls with fewer arguments.\n",
        "* **Variable-length arguments (`*args`, `**kwargs`):** Accept a flexible number of positional or keyword arguments.\n",
        "* **Conditional logic:** Use `if/elif` statements inside a single method to check argument types or counts.\n",
        "* **`functools.singledispatch`:** For type-based dispatch, allowing different implementations based on the *first* argument's type."
      ],
      "metadata": {
        "id": "bQVKkLD1-Pai"
      }
    },
    {
      "cell_type": "markdown",
      "source": [
        "**12. What is method overriding in OOP ?**\n",
        "  - Method overriding in OOP allows a subclass to provide a specific implementation for a method that is already defined in its superclass. When the method is called on an object of the subclass, the subclass's version is executed instead of the superclass's. This enables polymorphism and specific behavior for specialized classes."
      ],
      "metadata": {
        "id": "qjJTv-uI-PX0"
      }
    },
    {
      "cell_type": "markdown",
      "source": [
        "**13. What is a property decorator in Python ?**\n",
        "  - The `@property` decorator in Python provides a way to define methods that can be accessed like attributes. It allows you to add custom logic (getters, setters, deleters) when an attribute is accessed, assigned, or deleted, while maintaining a clean, attribute-like syntax. This enhances encapsulation and data validation."
      ],
      "metadata": {
        "id": "QE3rvnNn-PVk"
      }
    },
    {
      "cell_type": "markdown",
      "source": [
        "**14. Why is polymorphism important in OOP ?**\n",
        "  - Polymorphism is crucial in OOP as it promotes flexibility and extensibility. It allows you to write generic code that can work with objects of different classes, as long as they share a common interface. This reduces code duplication, makes systems easier to maintain and extend, and enables dynamic behavior based on object types."
      ],
      "metadata": {
        "id": "1pqc7j3--PSx"
      }
    },
    {
      "cell_type": "markdown",
      "source": [
        "**15. What is an abstract class in Python ?**\n",
        "  - In Python, an abstract class is a blueprint for other classes, ensuring they implement certain methods. Defined using the `abc` module (Abstract Base Classes) and inheriting from `ABC`, these classes cannot be instantiated directly if they contain `abstractmethod` decorated methods. Subclasses *must* implement all abstract methods to become concrete and instantiable."
      ],
      "metadata": {
        "id": "tD-BeDQh-PP-"
      }
    },
    {
      "cell_type": "markdown",
      "source": [
        "**16. What are the advantages of OOP ?**\n",
        "  >> OOP offers several advantages in Python, including:\n",
        "\n",
        "* **Modularity:** Breaking down complex problems into smaller, manageable objects.\n",
        "* **Reusability:** Classes can be reused across different parts of a project or in new projects.\n",
        "* **Maintainability:** Easier to debug and update code due to encapsulated components.\n",
        "* **Scalability:** Facilitates building large, complex systems.\n",
        "* **Flexibility:** Polymorphism allows for more adaptable and extensible code."
      ],
      "metadata": {
        "id": "FWY28q2y-PNs"
      }
    },
    {
      "cell_type": "markdown",
      "source": [
        "**17. What is the difference between a class variable and an instance variable ?**\n",
        "  - Class variables are shared among all instances of a class; they are defined directly within the class but outside any methods.\n",
        "  \n",
        "  Instance variables, conversely, are unique to each object (instance) and are defined within methods (typically `__init__`) using `self.`. Changes to a class variable affect all instances, while instance variable changes are isolated."
      ],
      "metadata": {
        "id": "7PDHyBpS-PLN"
      }
    },
    {
      "cell_type": "markdown",
      "source": [
        "**18. What is multiple inheritance in Python ?**\n",
        "  - Multiple inheritance in Python allows a class to inherit from multiple parent classes, combining their attributes and methods. This enables a child class to acquire characteristics from several distinct sources. However, it can introduce complexities like the \"diamond problem,\" which Python resolves using the Method Resolution Order (MRO) to determine method lookup."
      ],
      "metadata": {
        "id": "MUuxnePf-PI7"
      }
    },
    {
      "cell_type": "markdown",
      "source": [
        "**19. Explain the purpose of ‘’__str__’ and ‘__repr__’ ‘ methods in Python.**\n",
        "  - In Python, `__str__` and `__repr__` are dunder methods for string representation. `__str__` provides a human-readable, informal string for display to users (e.g., `print()`). `__repr__` provides an unambiguous, developer-focused string that ideally could recreate the object (e.g., for debugging or `repr()`)."
      ],
      "metadata": {
        "id": "bl5Fkyfa-PGw"
      }
    },
    {
      "cell_type": "markdown",
      "source": [
        "**20. What is the significance of the ‘super()’ function in Python ?**\n",
        "  - The `super()` function in Python provides a way to call methods from a parent or sibling class in an inheritance hierarchy. Its primary significance lies in enabling proper method overriding and ensuring that inherited methods are correctly initialized or extended without explicitly naming the parent class, especially useful in complex multiple inheritance scenarios."
      ],
      "metadata": {
        "id": "-IGra2ca-PE8"
      }
    },
    {
      "cell_type": "markdown",
      "source": [
        "**21. What is the significance of the __del__ method in Python ?**\n",
        "  - The `__del__` method in Python is the destructor; it's called when an object is about to be destroyed (garbage collected). Its significance lies in performing cleanup operations, such as releasing external resources (file handles, network connections) that the object might be holding. However, its execution isn't guaranteed or immediate due to Python's garbage collector."
      ],
      "metadata": {
        "id": "T4KHGnKq-PAv"
      }
    },
    {
      "cell_type": "markdown",
      "source": [
        "**22. What is the difference between @staticmethod and @classmethod in Python ?**\n",
        "  - `@staticmethod` methods in Python don't receive `self` or `cls` and behave like regular functions, logically grouped with the class but independent of its instances or class state. `@classmethod` methods, however, receive the class (`cls`) as their first argument, allowing them to access and modify class-level attributes or create class instances (factory methods)."
      ],
      "metadata": {
        "id": "3hi47v1i-O-O"
      }
    },
    {
      "cell_type": "markdown",
      "source": [
        "**23. How does polymorphism work in Python with inheritance ?**\n",
        "  - In Python, polymorphism with inheritance allows objects of different classes (subclasses) to be treated uniformly via a common interface (superclass or shared method). When a method is called on an object, Python's dynamic typing ensures the appropriate method implementation for that object's specific class is executed, overriding the parent's if defined."
      ],
      "metadata": {
        "id": "rDUSvpmC-O76"
      }
    },
    {
      "cell_type": "markdown",
      "source": [
        "**24. What is method chaining in Python OOP ?**\n",
        "  - Method chaining in Python OOP is a technique allowing multiple method calls to be strung together on a single object. Each method returns the object itself (`self`), enabling the next method to be called directly on the result. This creates more concise and readable code, often seen in builder patterns or fluent interfaces."
      ],
      "metadata": {
        "id": "Nbvr-Bhh-O5v"
      }
    },
    {
      "cell_type": "markdown",
      "source": [
        "**25.  What is the purpose of the __call__ method in Python ?**\n",
        "  - The `__call__` method in Python allows an instance of a class to be called as if it were a function. When this method is defined, objects of that class become \"callable,\" meaning you can execute them using parentheses, passing arguments just like a regular function. This is useful for creating function-like objects or decorators."
      ],
      "metadata": {
        "id": "08YumXEe-O3p"
      }
    },
    {
      "cell_type": "markdown",
      "source": [
        "________________________________________________________________________________________________________________________________________________________________"
      ],
      "metadata": {
        "id": "qRvX017TKZ6p"
      }
    },
    {
      "cell_type": "markdown",
      "source": [
        "# ***PRACTICAL QUESTIONS***"
      ],
      "metadata": {
        "id": "ZDEanhEzKk6i"
      }
    },
    {
      "cell_type": "markdown",
      "source": [
        "**1. Create a parent class Animal with a method speak() that prints a generic message. Create a child class Dog that overrides the speak() method to print \"Bark!\".**"
      ],
      "metadata": {
        "id": "Z_4lPmN9KtbA"
      }
    },
    {
      "cell_type": "code",
      "source": [
        "class Animal:\n",
        "    def speak(self):\n",
        "        print(\"Animal makes a sound.\")\n",
        "\n",
        "class Dog(Animal):\n",
        "    def speak(self):\n",
        "        print(\"Bark!\")\n",
        "\n",
        "if __name__ == \"__main__\":\n",
        "    generic_animal = Animal()\n",
        "    print(\"Generic Animal's sound:\")\n",
        "    generic_animal.speak()\n",
        "\n",
        "    my_dog = Dog()\n",
        "    print(\"\\nMy Dog's sound:\")\n",
        "    my_dog.speak()"
      ],
      "metadata": {
        "colab": {
          "base_uri": "https://localhost:8080/"
        },
        "id": "Ww7DEy-MKviy",
        "outputId": "92cef6e0-7145-4166-dc5d-6890b8082087"
      },
      "execution_count": 1,
      "outputs": [
        {
          "output_type": "stream",
          "name": "stdout",
          "text": [
            "Generic Animal's sound:\n",
            "Animal makes a sound.\n",
            "\n",
            "My Dog's sound:\n",
            "Bark!\n"
          ]
        }
      ]
    },
    {
      "cell_type": "markdown",
      "source": [
        "**2. Write a program to create an abstract class Shape with a method area(). Derive classes Circle and Rectangle from it and implement the area() method in both.**"
      ],
      "metadata": {
        "id": "xiiO9O_LK3hh"
      }
    },
    {
      "cell_type": "code",
      "source": [
        "from abc import ABC, abstractmethod\n",
        "\n",
        "class Shape(ABC):\n",
        "    @abstractmethod\n",
        "    def area(self):\n",
        "        pass\n",
        "\n",
        "class Circle(Shape):\n",
        "    def __init__(self, radius):\n",
        "        self.radius = radius\n",
        "\n",
        "    def area(self):\n",
        "        return 3.14159 * self.radius * self.radius\n",
        "\n",
        "class Rectangle(Shape):\n",
        "    def __init__(self, length, width):\n",
        "        self.length = length\n",
        "        self.width = width\n",
        "\n",
        "    def area(self):\n",
        "        return self.length * self.width\n",
        "\n",
        "if __name__ == \"__main__\":\n",
        "    circle = Circle(5)\n",
        "    rectangle = Rectangle(4, 6)\n",
        "\n",
        "    print(f\"Area of Circle: {circle.area()}\")\n",
        "    print(f\"Area of Rectangle: {rectangle.area()}\")"
      ],
      "metadata": {
        "colab": {
          "base_uri": "https://localhost:8080/"
        },
        "id": "WSljN5ofK3Tp",
        "outputId": "667087dd-7f0c-4919-96a9-6a2797f2117d"
      },
      "execution_count": 2,
      "outputs": [
        {
          "output_type": "stream",
          "name": "stdout",
          "text": [
            "Area of Circle: 78.53975\n",
            "Area of Rectangle: 24\n"
          ]
        }
      ]
    },
    {
      "cell_type": "markdown",
      "source": [
        "**3. Implement a multi-level inheritance scenario where a class Vehicle has an attribute type. Derive a class Car and further derive a class ElectricCar that adds a battery attribute.**"
      ],
      "metadata": {
        "id": "F_ozvq6mK3Ez"
      }
    },
    {
      "cell_type": "code",
      "source": [
        "class Vehicle:\n",
        "    def __init__(self, vehicle_type):\n",
        "        self.vehicle_type = vehicle_type\n",
        "\n",
        "    def get_type(self):\n",
        "        return self.vehicle_type\n",
        "\n",
        "class Car(Vehicle):\n",
        "    def __init__(self, vehicle_type, make):\n",
        "        super().__init__(vehicle_type)\n",
        "        self.make = make\n",
        "\n",
        "    def get_make(self):\n",
        "        return self.make\n",
        "\n",
        "class ElectricCar(Car):\n",
        "    def __init__(self, vehicle_type, make, battery_kwh):\n",
        "        super().__init__(vehicle_type, make)\n",
        "        self.battery_kwh = battery_kwh\n",
        "\n",
        "    def get_battery_info(self):\n",
        "        return f\"{self.battery_kwh} kWh battery\""
      ],
      "metadata": {
        "id": "V2mQy4YNK22j"
      },
      "execution_count": 5,
      "outputs": []
    },
    {
      "cell_type": "markdown",
      "source": [
        "**4. Demonstrate polymorphism by creating a base class Bird with a method fly(). Create two derived classes Sparrow and Penguin that override the fly() method.**"
      ],
      "metadata": {
        "id": "PofxexUZK2M0"
      }
    },
    {
      "cell_type": "code",
      "source": [
        "class Bird:\n",
        "    def fly(self):\n",
        "        print(\"Some birds can fly.\")\n",
        "\n",
        "class Sparrow(Bird):\n",
        "    def fly(self):\n",
        "        print(\"Sparrow flies high in the sky.\")\n",
        "\n",
        "class Penguin(Bird):\n",
        "    def fly(self):\n",
        "        print(\"Penguins cannot fly, they swim instead.\")\n",
        "\n",
        "def bird_fly_test(bird):\n",
        "    bird.fly()\n",
        "\n",
        "generic_bird = Bird()\n",
        "sparrow = Sparrow()\n",
        "penguin = Penguin()\n",
        "\n",
        "bird_fly_test(generic_bird)\n",
        "bird_fly_test(sparrow)\n",
        "bird_fly_test(penguin)\n"
      ],
      "metadata": {
        "colab": {
          "base_uri": "https://localhost:8080/"
        },
        "id": "0e5JOBhHK13g",
        "outputId": "9e80e754-146f-4ae9-d90b-25817fbfc17c"
      },
      "execution_count": 12,
      "outputs": [
        {
          "output_type": "stream",
          "name": "stdout",
          "text": [
            "Some birds can fly.\n",
            "Sparrow flies high in the sky.\n",
            "Penguins cannot fly, they swim instead.\n"
          ]
        }
      ]
    },
    {
      "cell_type": "markdown",
      "source": [
        "**5. Write a program to demonstrate encapsulation by creating a class BankAccount with private attributes balance and methods to deposit, withdraw, and check balance**"
      ],
      "metadata": {
        "id": "DEo17-D7K1lf"
      }
    },
    {
      "cell_type": "code",
      "source": [
        "class BankAccount:\n",
        "    def __init__(self, initial_balance=0):\n",
        "        self.__balance = initial_balance\n",
        "\n",
        "    def deposit(self, amount):\n",
        "        if amount > 0:\n",
        "            self.__balance += amount\n",
        "\n",
        "    def withdraw(self, amount):\n",
        "        if 0 < amount <= self.__balance:\n",
        "            self.__balance -= amount\n",
        "\n",
        "    def check_balance(self):\n",
        "        return self.__balance\n",
        "\n",
        "account = BankAccount(1000)\n",
        "account.deposit(500)\n",
        "account.withdraw(200)\n",
        "print(\"Current balance:\", account.check_balance())\n"
      ],
      "metadata": {
        "colab": {
          "base_uri": "https://localhost:8080/"
        },
        "id": "nU-dbf95K1VS",
        "outputId": "f959ac8d-7fa1-47a0-f398-b037c582e78b"
      },
      "execution_count": 13,
      "outputs": [
        {
          "output_type": "stream",
          "name": "stdout",
          "text": [
            "Current balance: 1300\n"
          ]
        }
      ]
    },
    {
      "cell_type": "markdown",
      "source": [
        "**6. Demonstrate runtime polymorphism using a method play() in a base class Instrument. Derive classes Guitar and Piano that implement their own version of play().**"
      ],
      "metadata": {
        "id": "wtInEpVnK1Cm"
      }
    },
    {
      "cell_type": "code",
      "source": [
        "class Instrument:\n",
        "    def play(self):\n",
        "        print(\"Playing an instrument.\")\n",
        "\n",
        "class Guitar(Instrument):\n",
        "    def play(self):\n",
        "        print(\"Strumming the guitar.\")\n",
        "\n",
        "class Piano(Instrument):\n",
        "    def play(self):\n",
        "        print(\"Playing the piano keys.\")\n",
        "\n",
        "def perform(instrument):\n",
        "    instrument.play()\n",
        "\n",
        "guitar = Guitar()\n",
        "piano = Piano()\n",
        "\n",
        "perform(guitar)\n",
        "perform(piano)\n"
      ],
      "metadata": {
        "colab": {
          "base_uri": "https://localhost:8080/"
        },
        "id": "1YeiiajqK0zf",
        "outputId": "ed197724-d118-4cb1-8df2-0fd2f28122f0"
      },
      "execution_count": 14,
      "outputs": [
        {
          "output_type": "stream",
          "name": "stdout",
          "text": [
            "Strumming the guitar.\n",
            "Playing the piano keys.\n"
          ]
        }
      ]
    },
    {
      "cell_type": "markdown",
      "source": [
        "**7. Create a class MathOperations with a class method add_numbers() to add two numbers and a static method subtract_numbers() to subtract two numbers**"
      ],
      "metadata": {
        "id": "5j9vODfLK0ga"
      }
    },
    {
      "cell_type": "code",
      "source": [
        "class MathOperations:\n",
        "    @classmethod\n",
        "    def add_numbers(cls, a, b):\n",
        "        return a + b\n",
        "\n",
        "    @staticmethod\n",
        "    def subtract_numbers(a, b):\n",
        "        return a - b\n",
        "\n",
        "result1 = MathOperations.add_numbers(10, 5)\n",
        "result2 = MathOperations.subtract_numbers(10, 5)\n",
        "\n",
        "print(\"Addition:\", result1)\n",
        "print(\"Subtraction:\", result2)\n"
      ],
      "metadata": {
        "colab": {
          "base_uri": "https://localhost:8080/"
        },
        "id": "NU1NM2PIK0Td",
        "outputId": "caf81a32-ed3c-4e91-dd22-fccfe7d646cd"
      },
      "execution_count": 15,
      "outputs": [
        {
          "output_type": "stream",
          "name": "stdout",
          "text": [
            "Addition: 15\n",
            "Subtraction: 5\n"
          ]
        }
      ]
    },
    {
      "cell_type": "markdown",
      "source": [
        "**8. Implement a class Person with a class method to count the total number of persons created.**"
      ],
      "metadata": {
        "id": "iCL7eZWkK0FY"
      }
    },
    {
      "cell_type": "code",
      "source": [
        "class Person:\n",
        "    count = 0\n",
        "\n",
        "    def __init__(self, name):\n",
        "        self.name = name\n",
        "        Person.count += 1\n",
        "\n",
        "    @classmethod\n",
        "    def total_persons(cls):\n",
        "        return cls.count\n",
        "\n",
        "p1 = Person(\"Alice\")\n",
        "p2 = Person(\"Bob\")\n",
        "p3 = Person(\"Charlie\")\n",
        "\n",
        "print(\"Total persons created:\", Person.total_persons())\n"
      ],
      "metadata": {
        "colab": {
          "base_uri": "https://localhost:8080/"
        },
        "id": "VbD8QwJ_KzwD",
        "outputId": "7611f5fd-aa04-491d-f913-de0ac9cb0ca0"
      },
      "execution_count": 16,
      "outputs": [
        {
          "output_type": "stream",
          "name": "stdout",
          "text": [
            "Total persons created: 3\n"
          ]
        }
      ]
    },
    {
      "cell_type": "markdown",
      "source": [
        "**9. Write a class Fraction with attributes numerator and denominator. Override the str method to display the fraction as \"numerator/denominator\".**"
      ],
      "metadata": {
        "id": "rediDFNIKx12"
      }
    },
    {
      "cell_type": "code",
      "source": [
        "class Fraction:\n",
        "    def __init__(self, numerator, denominator):\n",
        "        self.numerator = numerator\n",
        "        self.denominator = denominator\n",
        "\n",
        "    def __str__(self):\n",
        "        return f\"{self.numerator}/{self.denominator}\"\n",
        "\n",
        "f = Fraction(3, 4)\n",
        "print(f)\n"
      ],
      "metadata": {
        "colab": {
          "base_uri": "https://localhost:8080/"
        },
        "id": "k7kxndWFKw7D",
        "outputId": "bbd7677f-dc7c-4844-84eb-bf5a58fa2575"
      },
      "execution_count": 17,
      "outputs": [
        {
          "output_type": "stream",
          "name": "stdout",
          "text": [
            "3/4\n"
          ]
        }
      ]
    },
    {
      "cell_type": "markdown",
      "source": [
        "**10. Demonstrate operator overloading by creating a class Vector and overriding the add method to add two vectors.**"
      ],
      "metadata": {
        "id": "rc7c8tnCKwjC"
      }
    },
    {
      "cell_type": "code",
      "source": [
        "class Vector:\n",
        "    def __init__(self, x, y):\n",
        "        self.x = x\n",
        "        self.y = y\n",
        "\n",
        "    def __add__(self, other):\n",
        "        return Vector(self.x + other.x, self.y + other.y)\n",
        "\n",
        "    def __str__(self):\n",
        "        return f\"({self.x}, {self.y})\"\n",
        "\n",
        "v1 = Vector(2, 3)\n",
        "v2 = Vector(4, 5)\n",
        "v3 = v1 + v2\n",
        "\n",
        "print(v3)\n"
      ],
      "metadata": {
        "colab": {
          "base_uri": "https://localhost:8080/"
        },
        "id": "kTnrrf-DV-xj",
        "outputId": "6ae5d4cf-8ec1-4ea6-b0bd-a9d81addfaa4"
      },
      "execution_count": 18,
      "outputs": [
        {
          "output_type": "stream",
          "name": "stdout",
          "text": [
            "(6, 8)\n"
          ]
        }
      ]
    },
    {
      "cell_type": "markdown",
      "source": [
        "**11. Create a class Person with attributes name and age. Add a method greet() that prints \"Hello, my name is {name} and I am {age} years old.\"**"
      ],
      "metadata": {
        "id": "lusdTTEvWKo2"
      }
    },
    {
      "cell_type": "code",
      "source": [
        "class Person:\n",
        "    def __init__(self, name, age):\n",
        "        self.name = name\n",
        "        self.age = age\n",
        "\n",
        "    def greet(self):\n",
        "        print(f\"Hello, my name is {self.name} and I am {self.age} years old.\")\n",
        "\n",
        "p = Person(\"Alice\", 30)\n",
        "p.greet()\n"
      ],
      "metadata": {
        "colab": {
          "base_uri": "https://localhost:8080/"
        },
        "id": "9ZCoLDtCWE0e",
        "outputId": "39f5cb31-a765-40f0-8b48-110b9c7ee959"
      },
      "execution_count": 19,
      "outputs": [
        {
          "output_type": "stream",
          "name": "stdout",
          "text": [
            "Hello, my name is Alice and I am 30 years old.\n"
          ]
        }
      ]
    },
    {
      "cell_type": "markdown",
      "source": [
        "**12. Implement a class Student with attributes name and grades. Create a method average_grade() to compute the average of the grades.**"
      ],
      "metadata": {
        "id": "UMhfkKveWWUA"
      }
    },
    {
      "cell_type": "code",
      "source": [
        "class Student:\n",
        "    def __init__(self, name, grades):\n",
        "        self.name = name\n",
        "        self.grades = grades\n",
        "\n",
        "    def average_grade(self):\n",
        "        return sum(self.grades) / len(self.grades)\n",
        "\n",
        "s = Student(\"John\", [85, 90, 78, 92])\n",
        "print(\"Average grade:\", s.average_grade())"
      ],
      "metadata": {
        "colab": {
          "base_uri": "https://localhost:8080/"
        },
        "id": "3I6ELG4qWWFs",
        "outputId": "0064bbc0-9bc8-41e8-f0e4-9117b5a909a3"
      },
      "execution_count": 20,
      "outputs": [
        {
          "output_type": "stream",
          "name": "stdout",
          "text": [
            "Average grade: 86.25\n"
          ]
        }
      ]
    },
    {
      "cell_type": "markdown",
      "source": [
        "**13. Create a class Rectangle with methods set_dimensions() to set the dimensions and area() to calculate the area.**"
      ],
      "metadata": {
        "id": "1MbqFom5WV4L"
      }
    },
    {
      "cell_type": "code",
      "source": [
        "class Rectangle:\n",
        "    def set_dimensions(self, length, width):\n",
        "        self.length = length\n",
        "        self.width = width\n",
        "\n",
        "    def area(self):\n",
        "        return self.length * self.width\n",
        "\n",
        "r = Rectangle()\n",
        "r.set_dimensions(10, 5)\n",
        "print(\"Area of rectangle:\", r.area())\n"
      ],
      "metadata": {
        "colab": {
          "base_uri": "https://localhost:8080/"
        },
        "id": "0bKxRA6rWVmZ",
        "outputId": "a19a2d4b-673f-4efa-9626-4f7e4e970cea"
      },
      "execution_count": 21,
      "outputs": [
        {
          "output_type": "stream",
          "name": "stdout",
          "text": [
            "Area of rectangle: 50\n"
          ]
        }
      ]
    },
    {
      "cell_type": "markdown",
      "source": [
        "**14. Create a class Employee with a method calculate_salary() that computes the salary based on hours worked and hourly rate. Create a derived class Manager that adds a bonus to the salary.**"
      ],
      "metadata": {
        "id": "p0jieYJfWVRW"
      }
    },
    {
      "cell_type": "code",
      "source": [
        "class Employee:\n",
        "    def calculate_salary(self, hours_worked, hourly_rate):\n",
        "        return hours_worked * hourly_rate\n",
        "\n",
        "class Manager(Employee):\n",
        "    def calculate_salary(self, hours_worked, hourly_rate, bonus):\n",
        "        base_salary = super().calculate_salary(hours_worked, hourly_rate)\n",
        "        return base_salary + bonus\n",
        "\n",
        "e = Employee()\n",
        "m = Manager()\n",
        "\n",
        "print(\"Employee Salary:\", e.calculate_salary(40, 50))\n",
        "print(\"Manager Salary:\", m.calculate_salary(40, 50, 500))\n"
      ],
      "metadata": {
        "colab": {
          "base_uri": "https://localhost:8080/"
        },
        "id": "7qZvGu9WWU8i",
        "outputId": "55206c9f-b0a9-48bd-c963-994a6b36dd31"
      },
      "execution_count": 22,
      "outputs": [
        {
          "output_type": "stream",
          "name": "stdout",
          "text": [
            "Employee Salary: 2000\n",
            "Manager Salary: 2500\n"
          ]
        }
      ]
    },
    {
      "cell_type": "markdown",
      "source": [
        "**15. Create a class Product with attributes name, price, and quantity. Implement a method total_price() that calculates the total price of the product**"
      ],
      "metadata": {
        "id": "gnXrplHhWUbe"
      }
    },
    {
      "cell_type": "code",
      "source": [
        "class Product:\n",
        "    def __init__(self, name, price, quantity):\n",
        "        self.name = name\n",
        "        self.price = price\n",
        "        self.quantity = quantity\n",
        "\n",
        "    def total_price(self):\n",
        "        return self.price * self.quantity\n",
        "\n",
        "p = Product(\"Laptop\", 75000, 2)\n",
        "print(\"Total price:\", p.total_price())\n"
      ],
      "metadata": {
        "colab": {
          "base_uri": "https://localhost:8080/"
        },
        "id": "snI7gxtzWTTJ",
        "outputId": "680d831d-5316-4663-b457-f136728fc4d8"
      },
      "execution_count": 23,
      "outputs": [
        {
          "output_type": "stream",
          "name": "stdout",
          "text": [
            "Total price: 150000\n"
          ]
        }
      ]
    },
    {
      "cell_type": "markdown",
      "source": [
        "**16. Create a class Animal with an abstract method sound(). Create two derived classes Cow and Sheep that implement the sound() method.**"
      ],
      "metadata": {
        "id": "uT4sAYc9XRIR"
      }
    },
    {
      "cell_type": "code",
      "source": [
        "from abc import ABC, abstractmethod\n",
        "\n",
        "class Animal(ABC):\n",
        "    @abstractmethod\n",
        "    def sound(self):\n",
        "        pass\n",
        "\n",
        "class Cow(Animal):\n",
        "    def sound(self):\n",
        "        print(\"Moo\")\n",
        "\n",
        "class Sheep(Animal):\n",
        "    def sound(self):\n",
        "        print(\"Baa\")\n",
        "\n",
        "c = Cow()\n",
        "s = Sheep()\n",
        "\n",
        "c.sound()\n",
        "s.sound()\n"
      ],
      "metadata": {
        "colab": {
          "base_uri": "https://localhost:8080/"
        },
        "id": "_0Ou3nsmXQ8S",
        "outputId": "98aac33d-172d-4658-c614-87e14fc55946"
      },
      "execution_count": 24,
      "outputs": [
        {
          "output_type": "stream",
          "name": "stdout",
          "text": [
            "Moo\n",
            "Baa\n"
          ]
        }
      ]
    },
    {
      "cell_type": "markdown",
      "source": [
        "**17. Create a class Book with attributes title, author, and year_published. Add a method get_book_info() that returns a formatted string with the book's details.**"
      ],
      "metadata": {
        "id": "96ry2Kx-XQrF"
      }
    },
    {
      "cell_type": "code",
      "source": [
        "class Book:\n",
        "    def __init__(self, title, author, year_published):\n",
        "        self.title = title\n",
        "        self.author = author\n",
        "        self.year_published = year_published\n",
        "\n",
        "    def get_book_info(self):\n",
        "        return f\"'{self.title}' by {self.author}, published in {self.year_published}\"\n",
        "\n",
        "b = Book(\"1984\", \"George Orwell\", 1949)\n",
        "print(b.get_book_info())\n"
      ],
      "metadata": {
        "colab": {
          "base_uri": "https://localhost:8080/"
        },
        "id": "9Z1kBCx2XQeE",
        "outputId": "c2b88540-f4cb-4bd3-a658-04a418e4554d"
      },
      "execution_count": 25,
      "outputs": [
        {
          "output_type": "stream",
          "name": "stdout",
          "text": [
            "'1984' by George Orwell, published in 1949\n"
          ]
        }
      ]
    },
    {
      "cell_type": "markdown",
      "source": [
        "**18. Create a class House with attributes address and price. Create a derived class Mansion that adds an attribute number_of_rooms.**"
      ],
      "metadata": {
        "id": "Dz6eszfhXP51"
      }
    },
    {
      "cell_type": "code",
      "source": [
        "class House:\n",
        "    def __init__(self, address, price):\n",
        "        self.address = address\n",
        "        self.price = price\n",
        "\n",
        "class Mansion(House):\n",
        "    def __init__(self, address, price, number_of_rooms):\n",
        "        super().__init__(address, price)\n",
        "        self.number_of_rooms = number_of_rooms\n",
        "\n",
        "m = Mansion(\"123 Luxury St\", 50000000, 15)\n",
        "print(m.address, m.price, m.number_of_rooms)\n"
      ],
      "metadata": {
        "colab": {
          "base_uri": "https://localhost:8080/"
        },
        "id": "jbxP6YdNXPob",
        "outputId": "dbcaab8d-ae97-46be-d3f9-c2b6a80b0740"
      },
      "execution_count": 26,
      "outputs": [
        {
          "output_type": "stream",
          "name": "stdout",
          "text": [
            "123 Luxury St 50000000 15\n"
          ]
        }
      ]
    }
  ]
}